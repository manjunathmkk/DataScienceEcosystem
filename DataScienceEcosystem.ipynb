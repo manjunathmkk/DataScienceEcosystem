{
  "cells": [
    {
      "cell_type": "markdown",
      "id": "53b74a3a-094f-4b8a-91c5-2b4b4d343a5a",
      "metadata": {
        "id": "53b74a3a-094f-4b8a-91c5-2b4b4d343a5a"
      },
      "source": [
        "# Data Science Tools and Ecosystem"
      ]
    },
    {
      "cell_type": "markdown",
      "id": "278dc65d-39f3-4993-8b89-1019753be811",
      "metadata": {
        "id": "278dc65d-39f3-4993-8b89-1019753be811"
      },
      "source": [
        "In this notebook, Data Science Tools and Ecosystem are summarized."
      ]
    },
    {
      "cell_type": "markdown",
      "id": "f9c0accb-105c-4907-b2fc-9bf5fa942d3d",
      "metadata": {
        "id": "f9c0accb-105c-4907-b2fc-9bf5fa942d3d"
      },
      "source": [
        "**Objectives:**\n",
        "* Some of the popular languages that Data Scientists use are:\n",
        "* Some of the commonly used libraries used by Data Scientists include:\n",
        "* Some of the commonly used Tools by Data Scientists are:"
      ]
    },
    {
      "cell_type": "markdown",
      "id": "c6740d37-3828-4658-ae5e-3dd811f1ba4e",
      "metadata": {
        "id": "c6740d37-3828-4658-ae5e-3dd811f1ba4e"
      },
      "source": [
        "Some of the popular languages that Data Scientists use are:\n",
        "1. Python\n",
        "2. R\n",
        "3. SQL\n",
        "4. Scala\n"
      ]
    },
    {
      "cell_type": "markdown",
      "id": "f8ace544-959a-462a-b1ce-e4d86619a9ad",
      "metadata": {
        "id": "f8ace544-959a-462a-b1ce-e4d86619a9ad"
      },
      "source": [
        "Some of the commonly used libraries used by Data Scientists include:\n",
        "1. Numpy\n",
        "2. pandas\n",
        "3. Matplotlib\n",
        "4. Scikit\n"
      ]
    },
    {
      "cell_type": "markdown",
      "id": "03cf4e01-297a-49a8-8a75-de14104724a7",
      "metadata": {
        "id": "03cf4e01-297a-49a8-8a75-de14104724a7"
      },
      "source": [
        "Some of the commonly used Tools by Data Scientists are:\n",
        "|Data Science Tools |\n",
        "|:-----|\n",
        "|Rstudio|\n",
        "|Jupyter Lab|\n",
        "|TensorFlow|\n",
        "\n",
        "\n"
      ]
    },
    {
      "cell_type": "markdown",
      "id": "46eeee23-633c-4921-8b09-9cb24e54a28b",
      "metadata": {
        "id": "46eeee23-633c-4921-8b09-9cb24e54a28b"
      },
      "source": [
        "### Below are a few examples of evaluating arithmetic expressions in Python"
      ]
    },
    {
      "cell_type": "code",
      "execution_count": null,
      "id": "e7e8c235-0cc4-4ec7-b9ce-0edb471a4f25",
      "metadata": {
        "id": "e7e8c235-0cc4-4ec7-b9ce-0edb471a4f25",
        "outputId": "55280e8d-8150-48dc-f276-8f305ff5928f"
      },
      "outputs": [
        {
          "data": {
            "text/plain": [
              "17"
            ]
          },
          "execution_count": 1,
          "metadata": {},
          "output_type": "execute_result"
        }
      ],
      "source": [
        "# This a simple arithmetic expression to mutiply then add integers.\n",
        "(3*4)+5"
      ]
    },
    {
      "cell_type": "code",
      "execution_count": null,
      "id": "2d1af7d2-b6dc-4e37-95a8-556d6aa826cd",
      "metadata": {
        "id": "2d1af7d2-b6dc-4e37-95a8-556d6aa826cd",
        "outputId": "d8b98ca9-8cac-4ace-8fd5-a218d46258c6"
      },
      "outputs": [
        {
          "data": {
            "text/plain": [
              "3.3333333333333335"
            ]
          },
          "execution_count": 2,
          "metadata": {},
          "output_type": "execute_result"
        }
      ],
      "source": [
        "#  This will convert 200 minutes to hours by diving by 60\n",
        "200/60"
      ]
    },
    {
      "cell_type": "markdown",
      "id": "4ee0bc83-309f-4e94-81d3-34a724299500",
      "metadata": {
        "id": "4ee0bc83-309f-4e94-81d3-34a724299500"
      },
      "source": [
        "## Author\n",
        "Manjunath S"
      ]
    },
    {
      "cell_type": "code",
      "execution_count": null,
      "id": "dadc10a0-4f74-4732-ac4f-6592139674db",
      "metadata": {
        "id": "dadc10a0-4f74-4732-ac4f-6592139674db"
      },
      "outputs": [],
      "source": []
    }
  ],
  "metadata": {
    "kernelspec": {
      "display_name": "Python 3 (ipykernel)",
      "language": "python",
      "name": "python3"
    },
    "language_info": {
      "codemirror_mode": {
        "name": "ipython",
        "version": 3
      },
      "file_extension": ".py",
      "mimetype": "text/x-python",
      "name": "python",
      "nbconvert_exporter": "python",
      "pygments_lexer": "ipython3",
      "version": "3.12.8"
    },
    "colab": {
      "provenance": []
    }
  },
  "nbformat": 4,
  "nbformat_minor": 5
}